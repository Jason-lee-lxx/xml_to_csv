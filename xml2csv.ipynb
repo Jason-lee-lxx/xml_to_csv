{
 "cells": [
  {
   "cell_type": "markdown",
   "metadata": {},
   "source": [
    "# Convert xml to csv file"
   ]
  },
  {
   "cell_type": "code",
   "execution_count": 2,
   "metadata": {},
   "outputs": [],
   "source": [
    "import xml.etree.ElementTree as ET\n",
    "import os\n",
    "import numpy as np\n",
    "import pandas as pd"
   ]
  },
  {
   "cell_type": "code",
   "execution_count": 3,
   "metadata": {},
   "outputs": [],
   "source": [
    "xml_dir = './xml/'\n",
    "csv_dir = './csv/'"
   ]
  },
  {
   "cell_type": "code",
   "execution_count": 94,
   "metadata": {},
   "outputs": [
    {
     "name": "stdout",
     "output_type": "stream",
     "text": [
      "file number =  3\n"
     ]
    }
   ],
   "source": [
    "#Get the xml file list\n",
    "xml_f_list = os.listdir(xml_dir)\n",
    "print(\"file number = \", len(xml_f_list))"
   ]
  },
  {
   "cell_type": "code",
   "execution_count": 89,
   "metadata": {},
   "outputs": [],
   "source": [
    "#make a dataframe to storage label\n",
    "label_data_df = pd.DataFrame(columns = [\"file_name\", \"xmin\", \"ymin\", \"xmax\", \"ymax\", \"class_name\"])\n",
    "i = 0\n",
    "for xml_f_name in xml_f_list:\n",
    "    if (os.path.splitext(xml_f_name)[-1]) == '.xml':\n",
    "        with open (xml_dir + xml_f_name, 'r') as xml_file:\n",
    "            xml_data = ET.parse(xml_file)\n",
    "            #xml_data = ET.fromstring(xml_file)\n",
    "            xml_data_ele = xml_data.getroot()\n",
    "    #         file_name = xml_data_ele.find('filename').text\n",
    "    #         folder_name = xml_data_ele.find('folder').text\n",
    "    #         print(folder_name + '/' + file_name)\n",
    "            for child in xml_data_ele:\n",
    "                #print(child.tag)\n",
    "                if child.tag == \"folder\":\n",
    "                    folder_name = child.text\n",
    "                    #print(\"folder_name=\", folder_name) #\n",
    "#                 elif child.tag == \"filename\":    \n",
    "#                     file_name = child.text\n",
    "                    #print(\"file_name=\", file_name) #\n",
    "                elif child.tag == \"object\":    \n",
    "                    for child_object in child:\n",
    "                        if child_object.tag == \"name\":\n",
    "                            class_name = child_object.text\n",
    "                            #print(\"class_name=\", class_name) #\n",
    "                        elif child_object.tag == \"bndbox\":\n",
    "                            xmin = child_object.find('xmin').text\n",
    "                            xmax = child_object.find('xmax').text\n",
    "                            ymin = child_object.find('ymin').text\n",
    "                            ymax = child_object.find('ymax').text\n",
    "                            #print(xmin, ymin,xmax, ymax) #\n",
    "                    #append the data\n",
    "                    label_data = np.array([folder_name + '/' + xml_f_name, xmin, ymin, xmax, ymax, class_name])\n",
    "                    #print(label_data) #\n",
    "                    label_data_df.loc[i] = label_data\n",
    "                    i = i + 1\n",
    "                        \n",
    "                    "
   ]
  },
  {
   "cell_type": "code",
   "execution_count": 93,
   "metadata": {},
   "outputs": [
    {
     "data": {
      "text/html": [
       "<div>\n",
       "<style>\n",
       "    .dataframe thead tr:only-child th {\n",
       "        text-align: right;\n",
       "    }\n",
       "\n",
       "    .dataframe thead th {\n",
       "        text-align: left;\n",
       "    }\n",
       "\n",
       "    .dataframe tbody tr th {\n",
       "        vertical-align: top;\n",
       "    }\n",
       "</style>\n",
       "<table border=\"1\" class=\"dataframe\">\n",
       "  <thead>\n",
       "    <tr style=\"text-align: right;\">\n",
       "      <th></th>\n",
       "      <th>file_name</th>\n",
       "      <th>xmin</th>\n",
       "      <th>ymin</th>\n",
       "      <th>xmax</th>\n",
       "      <th>ymax</th>\n",
       "      <th>class_name</th>\n",
       "    </tr>\n",
       "  </thead>\n",
       "  <tbody>\n",
       "    <tr>\n",
       "      <th>0</th>\n",
       "      <td>GOPR0010_PNG/img0083.xml</td>\n",
       "      <td>925</td>\n",
       "      <td>793</td>\n",
       "      <td>1090</td>\n",
       "      <td>846</td>\n",
       "      <td>manhole</td>\n",
       "    </tr>\n",
       "    <tr>\n",
       "      <th>1</th>\n",
       "      <td>GOPR0010_PNG/img0083.xml</td>\n",
       "      <td>925</td>\n",
       "      <td>793</td>\n",
       "      <td>1090</td>\n",
       "      <td>846</td>\n",
       "      <td>manhole1</td>\n",
       "    </tr>\n",
       "    <tr>\n",
       "      <th>2</th>\n",
       "      <td>GOPR0010_PNG/img0082.xml</td>\n",
       "      <td>925</td>\n",
       "      <td>793</td>\n",
       "      <td>1090</td>\n",
       "      <td>846</td>\n",
       "      <td>manhole</td>\n",
       "    </tr>\n",
       "    <tr>\n",
       "      <th>3</th>\n",
       "      <td>GOPR0010_PNG/img0082.xml</td>\n",
       "      <td>925</td>\n",
       "      <td>793</td>\n",
       "      <td>1090</td>\n",
       "      <td>846</td>\n",
       "      <td>manhole1</td>\n",
       "    </tr>\n",
       "  </tbody>\n",
       "</table>\n",
       "</div>"
      ],
      "text/plain": [
       "                  file_name xmin ymin  xmax ymax class_name\n",
       "0  GOPR0010_PNG/img0083.xml  925  793  1090  846    manhole\n",
       "1  GOPR0010_PNG/img0083.xml  925  793  1090  846   manhole1\n",
       "2  GOPR0010_PNG/img0082.xml  925  793  1090  846    manhole\n",
       "3  GOPR0010_PNG/img0082.xml  925  793  1090  846   manhole1"
      ]
     },
     "execution_count": 93,
     "metadata": {},
     "output_type": "execute_result"
    }
   ],
   "source": [
    "label_data_df.head()"
   ]
  },
  {
   "cell_type": "code",
   "execution_count": 92,
   "metadata": {},
   "outputs": [],
   "source": [
    "#Output label data to csv and text\n",
    "label_data_df.to_csv(csv_dir + \"label_data.csv\", index=False, encoding='utf-8-sig')\n",
    "label_data_df.to_csv(csv_dir + \"label_data.txt\", index=False, header=False, encoding='utf-8-sig')"
   ]
  }
 ],
 "metadata": {
  "kernelspec": {
   "display_name": "Python 3",
   "language": "python",
   "name": "python3"
  },
  "language_info": {
   "codemirror_mode": {
    "name": "ipython",
    "version": 3
   },
   "file_extension": ".py",
   "mimetype": "text/x-python",
   "name": "python",
   "nbconvert_exporter": "python",
   "pygments_lexer": "ipython3",
   "version": "3.6.7"
  }
 },
 "nbformat": 4,
 "nbformat_minor": 2
}
